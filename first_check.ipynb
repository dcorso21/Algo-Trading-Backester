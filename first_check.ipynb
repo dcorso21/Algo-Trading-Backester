{
    "cells": [
        {
            "cell_type": "markdown",
            "metadata": {},
            "source": [
                "# 1. Configuration Settings"
            ]
        },
        {
            "cell_type": "code",
            "metadata": {},
            "source": [
                "# title Default Everything\n",
                "\n",
                "Default_Everything = True #@param {type:\"boolean\"}"
            ],
            "execution_count": 1,
            "outputs": []
        },
        {
            "cell_type": "markdown",
            "metadata": {},
            "source": [
                "## Miscellaneous\n"
            ]
        },
        {
            "cell_type": "code",
            "metadata": {},
            "source": [
                "Default_Misc = True #@param {type:\"boolean\"}\n"
            ],
            "execution_count": 1,
            "outputs": []
        },
        {
    "cell_type": "code",
    "execution_count": 1,
    "metadata": {},
    "outputs": [],
    "source": [
        "hard_stop = \"10:30:00\" #@param {type:\"raw\"}\n",
        "dollar_risk = -500 #@param {type:\"slider\", min:-1500, max:0, step: 50}\n",
        "ideal_volatility = 3 #@param {type:\"slider\", min:0, max:9, step: 0.5}\n",
        "\n",
        "misc_params = {\n",
        "    \"hard_stop\":hard_stop,\n",
        "    \"dollar_risk\":dollar_risk,\n",
        "    \"ideal_volatility\":ideal_volatility,\n",
        "}\n"
    ]
},
        {
            "cell_type": "markdown",
            "metadata": {},
            "source": [
                "## Order Conditions\n",
                "\n"
            ]
        },
        {
            "cell_type": "code",
            "metadata": {},
            "source": [
                "Default_Order_Conditions = False #@param {type:\"boolean\"}\n"
            ],
            "execution_count": 1,
            "outputs": []
        },
        {
            "cell_type": "markdown",
            "metadata": {},
            "source": [
                "### Buy Conditions\n"
            ]
        },
        {
            "cell_type": "code",
            "metadata": {},
            "source": [
                "Default_Buy_Conditions = True #@param {type:\"boolean\"}\n"
            ],
            "execution_count": 1,
            "outputs": []
        },
        {
    "cell_type": "code",
    "execution_count": 1,
    "metadata": {},
    "outputs": [],
    "source": [
        "#@title Aggresive Average\n",
        "aggresive_average = False #@param type:\"boolean\"\n",
        "priority = 2 #@param [\"1\", \"2\", \"3\", \"4\", \"5\", \"6\"] {type:\"raw\", allow-input: true}\n",
        "\n",
        "aggresive_average_params = {\n",
        "    \"active\":aggresive_average,\n",
        "    \"priority\":priority,\n",
        "}\n"
    ]
},{
    "cell_type": "code",
    "execution_count": 1,
    "metadata": {},
    "outputs": [],
    "source": [
        "#@title Drop Below Average\n",
        "drop_below_average = True #@param type:\"boolean\"\n",
        "priority = 1 #@param [\"1\", \"2\", \"3\", \"4\", \"5\", \"6\"] {type:\"raw\", allow-input: true}\n",
        "min_vola = 2.5 #@param {type:\"slider\", min:0, max:7.5, step: 0.5}\n",
        "max_vola = 5 #@param {type:\"slider\", min:0, max:15, step: 0.5}\n",
        "\n",
        "drop_below_average_params = {\n",
        "    \"active\":drop_below_average,\n",
        "    \"priority\":priority,\n",
        "    \"min_vola\":min_vola,\n",
        "    \"max_vola\":max_vola,\n",
        "}\n"
    ]
},
        {
            "cell_type": "markdown",
            "metadata": {},
            "source": [
                "### Sell Conditions\n"
            ]
        },
        {
            "cell_type": "code",
            "metadata": {},
            "source": [
                "Default_Sell_Conditions = True #@param {type:\"boolean\"}\n"
            ],
            "execution_count": 1,
            "outputs": []
        },
        {
    "cell_type": "code",
    "execution_count": 1,
    "metadata": {},
    "outputs": [],
    "source": [
        "#@title Dollar Risk Check\n",
        "dollar_risk_check = True #@param type:\"boolean\"\n",
        "priority = 1 #@param [\"1\", \"2\", \"3\", \"4\", \"5\", \"6\"] {type:\"raw\", allow-input: true}\n",
        "\n",
        "dollar_risk_check_params = {\n",
        "    \"active\":dollar_risk_check,\n",
        "    \"priority\":priority,\n",
        "}\n"
    ]
},{
    "cell_type": "code",
    "execution_count": 1,
    "metadata": {},
    "outputs": [],
    "source": [
        "#@title Timed Exit\n",
        "timed_exit = True #@param type:\"boolean\"\n",
        "priority = 2 #@param [\"1\", \"2\", \"3\", \"4\", \"5\", \"6\"] {type:\"raw\", allow-input: true}\n",
        "time = \"10:28:00\" #@param {type:\"raw\"}\n",
        "\n",
        "timed_exit_params = {\n",
        "    \"active\":timed_exit,\n",
        "    \"priority\":priority,\n",
        "    \"time\":time,\n",
        "}\n"
    ]
},{
    "cell_type": "code",
    "execution_count": 1,
    "metadata": {},
    "outputs": [],
    "source": [
        "#@title Exposure Over Account Limit\n",
        "exposure_over_account_limit = True #@param type:\"boolean\"\n",
        "priority = 3 #@param [\"1\", \"2\", \"3\", \"4\", \"5\", \"6\"] {type:\"raw\", allow-input: true}\n",
        "\n",
        "exposure_over_account_limit_params = {\n",
        "    \"active\":exposure_over_account_limit,\n",
        "    \"priority\":priority,\n",
        "}\n"
    ]
},{
    "cell_type": "code",
    "execution_count": 1,
    "metadata": {},
    "outputs": [],
    "source": [
        "#@title Percentage Gain\n",
        "percentage_gain = True #@param type:\"boolean\"\n",
        "priority = 4 #@param [\"1\", \"2\", \"3\", \"4\", \"5\", \"6\"] {type:\"raw\", allow-input: true}\n",
        "perc_gain = 3 #@param {type:\"slider\", min:0, max:9, step: 0.5}\n",
        "\n",
        "percentage_gain_params = {\n",
        "    \"active\":percentage_gain,\n",
        "    \"priority\":priority,\n",
        "    \"perc_gain\":perc_gain,\n",
        "}\n"
    ]
},{
    "cell_type": "code",
    "execution_count": 1,
    "metadata": {},
    "outputs": [],
    "source": [
        "#@title Target Unreal\n",
        "target_unreal = True #@param type:\"boolean\"\n",
        "priority = 5 #@param [\"1\", \"2\", \"3\", \"4\", \"5\", \"6\"] {type:\"raw\", allow-input: true}\n",
        "target_unreal = 20 #@param {type:\"slider\", min:0, max:60, step: 1}\n",
        "\n",
        "target_unreal_params = {\n",
        "    \"active\":target_unreal,\n",
        "    \"priority\":priority,\n",
        "    \"target_unreal\":target_unreal,\n",
        "}\n"
    ]
},
        {
            "cell_type": "markdown",
            "metadata": {},
            "source": [
                "# 2. Assemble Data\n",
                "\n",
                "Here is where the settings above are formatted into a config file that will be ready for use in the batch test. "
            ]
        },
        {
            "cell_type": "markdown",
            "metadata": {},
            "source": [
                "## Format Into Dictionaries\n"
            ]
        },
        {
            "cell_type": "code",
            "metadata": {},
            "source": [
                "defaults = {\n",
                "    'everything': Default_Everything,\n",
                "    'misc': Default_Misc,\n",
                "    'order_conditions': Default_Order_Conditions,\n",
                "    'sell_conditions': Default_Sell_Conditions,\n",
                "    'buy_conditions': Default_Buy_Conditions,\n",
                "}"
            ],
            "execution_count": 1,
            "outputs": []
        },
        {
            "cell_type": "code",
            "metadata": {},
            "source": [
                "buy_conditions = {\n",
                "    'drop_below_average' :drop_below_average_params,\n",
                "    'aggresive_average' :aggresive_average_params,\n",
                "}\n",
                "\n",
                "sell_conditions = {\n",
                "    'dollar_risk_check':dollar_risk_check_params,\n",
                "    'timed_exit':timed_exit_params,\n",
                "    'exposure_over_account_limit':exposure_over_account_limit_params,\n",
                "    'percentage_gain':percentage_gain_params,\n",
                "    'target_unreal':target_unreal_params,\n",
                "}\n",
                "\n",
                "master_dict = {\n",
                "    'misc': misc_params,\n",
                "    'order_conditions': {'buy_conditions':buy_conditions, 'sell_conditions':sell_conditions},\n",
                "}"
            ],
            "execution_count": 1,
            "outputs": []
        },
        {
            "cell_type": "markdown",
            "metadata": {},
            "source": [
                "## Overwrite Values from Default Config"
            ]
        },
        {
            "cell_type": "code",
            "metadata": {},
            "source": [
                "import default_config \n",
                "def_master = default_config.master_dict\n",
                "\n",
                "\n",
                "for field in defaults.keys():\n",
                "    if defaults[field] == True:\n",
                "        if field == 'everything':\n",
                "            master_dict = def_master\n",
                "            print(f'{field} defaulted')\n",
                "            break\n",
                "\n",
                "        if field in master_dict.keys():\n",
                "            master_dict[field] = def_master[field]\n",
                "            print(f'{field} defaulted')\n",
                "            continue\n",
                "        \n",
                "        else:\n",
                "            for category in master_dict.keys():\n",
                "                if field in master_dict[category]:\n",
                "                    master_dict[category][field] = def_master[category][field]\n",
                "                    print(f'{field} defaulted')\n"
            ],
            "execution_count": 1,
            "outputs": []
        },
        {
            "cell_type": "markdown",
            "metadata": {},
            "source": [
                "# 3. Save New Config File"
            ]
        },
        {
            "cell_type": "code",
            "metadata": {},
            "source": [
                "def_str = f'defaults = {defaults}\\n'\n",
                "master_str = f'master_dict = {master_dict}\\n'\n",
                "\n",
                "lines = [def_str, master_str]\n",
                "\n",
                "import os\n",
                "if os.path.exists('config.py'):\n",
                "    mode = 'w'\n",
                "else:\n",
                "    mode = 'x'\n",
                "\n",
                "with open('config.py', mode) as f:\n",
                "    f.writelines(lines)\n",
                "    f.close()\n",
                "print('complete')\n",
                "\n",
                "from google.colab import files\n",
                "files.download('config.py')"
            ],
            "execution_count": 1,
            "outputs": []
        }
    ],
    "metadata": {
        "language_info": {
            "codemirror_mode": {
                "name": "ipython",
                "version": 3
            },
            "file_extension": ".py",
            "mimetype": "text/x-python",
            "name": "python",
            "nbconvert_exporter": "python",
            "pygments_lexer": "ipython3",
            "version": 3
        },
        "orig_nbformat": 2
    },
    "nbformat": 4,
    "nbformat_minor": 2
}