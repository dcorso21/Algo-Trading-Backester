{
 "cells": [
  {
   "cell_type": "code",
   "execution_count": 2,
   "metadata": {},
   "outputs": [],
   "source": [
    "from local_functions.main import algo\n",
    "import sys\n",
    "sys.dont_write_bytecode = True"
   ]
  },
  {
   "cell_type": "code",
   "execution_count": 3,
   "metadata": {},
   "outputs": [
    {
     "output_type": "stream",
     "name": "stdout",
     "text": "files reset\n09:31:00 complete\n09:32:00 complete\n09:33:00 complete\n09:34:00 complete\n09:35:00 complete\n09:36:00 complete\n09:37:00 complete\n09:38:00 complete\n09:39:00 complete\n09:40:00 complete\n09:41:00 complete\n09:42:00 complete\n09:43:00 complete\n09:44:00 complete\n09:45:00 complete\n09:46:00 complete\n09:47:00 complete\n09:48:00 complete\n09:49:00 complete\n09:50:00 complete\n09:51:00 complete\n09:52:00 complete\n09:53:00 complete\n09:54:00 complete\n09:55:00 complete\n09:56:00 complete\n09:57:00 complete\n09:58:00 complete\n09:59:00 complete\n10:00:00 complete\n10:01:00 complete\n10:02:00 complete\n10:03:00 complete\n10:04:00 complete\n10:05:00 complete\n10:06:00 complete\n10:07:00 complete\n10:08:00 complete\n10:09:00 complete\n10:10:00 complete\n10:11:00 complete\n10:12:00 complete\n10:13:00 complete\n10:14:00 complete\n10:15:00 complete\n10:16:00 complete\n10:17:00 complete\n10:18:00 complete\n10:19:00 complete\n10:20:00 complete\n10:21:00 complete\n10:22:00 complete\n10:23:00 complete\n10:24:00 complete\n10:25:00 complete\n10:26:00 complete\n10:27:00 complete\n10:28:00 complete\n10:29:00 complete\n10:30:00 complete\n10:31:00 complete\n10:32:00 complete\n10:33:00 complete\n10:34:00 complete\n10:35:00 complete\n10:36:00 complete\n10:37:00 complete\n10:38:00 complete\n10:39:00 complete\n10:40:00 complete\n10:41:00 complete\n10:42:00 complete\n10:43:00 complete\n10:44:00 complete\n10:45:00 complete\n10:46:00 complete\n10:47:00 complete\n10:48:00 complete\n10:49:00 complete\n10:50:00 complete\n10:51:00 complete\n10:52:00 complete\n10:53:00 complete\n10:54:00 complete\n10:55:00 complete\n10:56:00 complete\n10:57:00 complete\n10:58:00 complete\n10:59:00 complete\n11:00:00 complete\n11:01:00 complete\n11:02:00 complete\n11:03:00 complete\n11:04:00 complete\n11:05:00 complete\ndone\n"
    }
   ],
   "source": [
    "algo.main_algo()"
   ]
  },
  {
   "cell_type": "code",
   "execution_count": null,
   "metadata": {},
   "outputs": [],
   "source": []
  }
 ],
 "metadata": {
  "kernelspec": {
   "display_name": "Python 3",
   "language": "python",
   "name": "python3"
  },
  "language_info": {
   "codemirror_mode": {
    "name": "ipython",
    "version": 3
   },
   "file_extension": ".py",
   "mimetype": "text/x-python",
   "name": "python",
   "nbconvert_exporter": "python",
   "pygments_lexer": "ipython3",
   "version": "3.7.5-final"
  }
 },
 "nbformat": 4,
 "nbformat_minor": 4
}